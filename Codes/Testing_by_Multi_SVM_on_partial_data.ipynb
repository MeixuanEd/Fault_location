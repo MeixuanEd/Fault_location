{
 "cells": [
  {
   "cell_type": "markdown",
   "metadata": {},
   "source": [
    "#  This is the results when 30% buses are measured using MSVM"
   ]
  },
  {
   "cell_type": "code",
   "execution_count": 8,
   "metadata": {},
   "outputs": [
    {
     "name": "stderr",
     "output_type": "stream",
     "text": [
      "C:\\Users\\Lab\\Anaconda3\\Anaconda3_new\\envs\\tensorflow\\lib\\site-packages\\sklearn\\utils\\validation.py:578: DataConversionWarning: A column-vector y was passed when a 1d array was expected. Please change the shape of y to (n_samples, ), for example using ravel().\n",
      "  y = column_or_1d(y, warn=True)\n"
     ]
    },
    {
     "name": "stdout",
     "output_type": "stream",
     "text": [
      "[100.0, 80.28169014084507, 56.33802816901409, 32.3943661971831]\n",
      "The averaged acc of fault 1 is 67.25\n"
     ]
    }
   ],
   "source": [
    "import numpy as np\n",
    "import tensorflow as tf\n",
    "from sklearn import datasets\n",
    "from sklearn import svm \n",
    "import time\n",
    "start_time = time.time()\n",
    "import pandas as pd\n",
    "import numpy as np\n",
    "from scipy import *\n",
    "from numpy import dot, multiply, diag, power\n",
    "from numpy import pi, exp, sin, cos, cosh, tanh, real, imag\n",
    "from numpy.linalg import inv, eig, pinv,norm\n",
    "from scipy.linalg import svd, svdvals\n",
    "import tensorflow as tf\n",
    "import os\n",
    "import matplotlib.pyplot as plt\n",
    "from io import BytesIO\n",
    "from functools import partial \n",
    "from IPython.display import clear_output, Image, display, HTML  \n",
    "import scipy.io as sio \n",
    "import time  \n",
    "import re\n",
    "\n",
    "# parameters \n",
    "n_classes=87 \n",
    "times = 1\n",
    "buses =68  \n",
    "def load_data(w,path,name): \n",
    "    global times, buses\n",
    "    import scipy.io as sio \n",
    "    PathName = os.path.join(path, name)\n",
    "    data=sio.loadmat(PathName); \n",
    "    dV= data['dV_feature'] \n",
    "    Y_ad= data['Y'] \n",
    "    train_data = (Y_ad[:,w] @ dV[w,:]).imag.T   \n",
    "    train_labels = data['y_num'] \n",
    "    col, buses = np.shape(train_data)  \n",
    "    train_x = np.float64(np.reshape(train_data, (int(col/times), buses )))  \n",
    "    train_y = train_labels.T \n",
    "    return train_x, train_y ,col\n",
    "\n",
    "# load data\n",
    "def load_all_data(w, fault_type, impe_type):\n",
    "    global train_data, train_labels,  test_data, test_labels, test_num, eval_data, eval_labels, linedata\n",
    "    rootPath = './01_datasets/Iu_feature'\n",
    "    trainName ='Line_faults_train'   \n",
    "    testName = 'Line_faults_test' +'_type_' + str(fault_type) + '_'+str(impe_type)\n",
    "    evalName = 'Line_faults_eval' \n",
    "    data = sio.loadmat(os.path.join(rootPath, trainName))\n",
    "    linedata = data['line']  \n",
    "    rootPath = './01_datasets/Iu_feature'\n",
    "    trainName ='Line_faults_train'   \n",
    "    testName = 'Line_faults_test' +'_type_' + str(fault_type) + '_'+str(impe_type)\n",
    "    evalName = 'Line_faults_eval' \n",
    "    data = sio.loadmat(os.path.join(rootPath, trainName))\n",
    "    linedata = data['line']\n",
    "    train_data, train_labels, train_num = load_data(w,rootPath, trainName)  \n",
    "    eval_data, eval_labels,eval_num= load_data(w,rootPath, evalName)  \n",
    "    test_data, test_labels,test_num= load_data(w,rootPath, testName)   \n",
    "\n",
    "def main():    \n",
    "    fault_type = 1; # 0--Tp; 1--LG; 2--LLG; 3--LL \n",
    "    w= [0,  1,  5,  8, 15, 25, 29, 30, 35, 44, 51, 24,  4, 20, 28, 40, 21, 37, 11, 18]\n",
    "    total_loss = []\n",
    "    total_acc = []\n",
    "    if fault_type == 0:\n",
    "        totalnum = 2\n",
    "    else:\n",
    "        totalnum =5\n",
    "    for impe_type in range(1, totalnum):  \n",
    "        load_all_data(w, fault_type, impe_type ) \n",
    "        clf = svm.SVC(decision_function_shape = 'ovr')\n",
    "        clf.fit(train_data, train_labels) \n",
    "        dec = clf.decision_function(test_data)\n",
    "        y_pred = clf.predict(test_data)\n",
    "        y_pred = np.reshape(y_pred, (test_num,1)) \n",
    "        acc = clf.score(test_data,test_labels) \n",
    "        total_acc.append(100*acc) \n",
    "    print (total_acc)\n",
    "    print ('The averaged acc of fault ' + '{:d}'.format(fault_type) +  ' is ' +  \\\n",
    "           '{:.2f}'.format(np.mean(total_acc))  ) \n",
    "    \n",
    "if __name__ == '__main__':\n",
    "    main()"
   ]
  },
  {
   "cell_type": "code",
   "execution_count": null,
   "metadata": {
    "collapsed": true
   },
   "outputs": [],
   "source": []
  }
 ],
 "metadata": {
  "kernelspec": {
   "display_name": "Python 3",
   "language": "python",
   "name": "python3"
  },
  "language_info": {
   "codemirror_mode": {
    "name": "ipython",
    "version": 3
   },
   "file_extension": ".py",
   "mimetype": "text/x-python",
   "name": "python",
   "nbconvert_exporter": "python",
   "pygments_lexer": "ipython3",
   "version": "3.6.2"
  }
 },
 "nbformat": 4,
 "nbformat_minor": 2
}
